{
  "nbformat": 4,
  "nbformat_minor": 0,
  "metadata": {
    "colab": {
      "name": "Comprehension.ipynb",
      "provenance": [],
      "authorship_tag": "ABX9TyMTSIfJFjp2fteYhAv8kAbf",
      "include_colab_link": true
    },
    "kernelspec": {
      "name": "python3",
      "display_name": "Python 3"
    },
    "language_info": {
      "name": "python"
    }
  },
  "cells": [
    {
      "cell_type": "markdown",
      "metadata": {
        "id": "view-in-github",
        "colab_type": "text"
      },
      "source": [
        "<a href=\"https://colab.research.google.com/github/tubaaktas/Comprehension/blob/main/Comprehension.ipynb\" target=\"_parent\"><img src=\"https://colab.research.google.com/assets/colab-badge.svg\" alt=\"Open In Colab\"/></a>"
      ]
    },
    {
      "cell_type": "markdown",
      "source": [
        "# **List Comprehension**"
      ],
      "metadata": {
        "id": "fJxEl_0aVwEj"
      }
    },
    {
      "cell_type": "code",
      "execution_count": null,
      "metadata": {
        "colab": {
          "base_uri": "https://localhost:8080/"
        },
        "id": "ev3MtT8RKjcD",
        "outputId": "25f8c96c-bc35-4225-e44f-e17cdd819d86"
      },
      "outputs": [
        {
          "output_type": "stream",
          "name": "stdout",
          "text": [
            "5400.0\n",
            "4080.0\n",
            "11784.0\n",
            "9120.0\n",
            "7884.0\n"
          ]
        }
      ],
      "source": [
        "salaries = [4500, 3400, 9820, 7600, 6570]\n",
        "\n",
        "def new_salary(x):\n",
        "  return x*20/100 +x\n",
        "\n",
        "for salary in salaries:\n",
        "  print(new_salary(salary))"
      ]
    },
    {
      "cell_type": "code",
      "source": [
        "null_list=[]\n",
        "for salary in salaries:\n",
        "  null_list.append(new_salary(salary))"
      ],
      "metadata": {
        "id": "WYMCfKyRLhYi"
      },
      "execution_count": null,
      "outputs": []
    },
    {
      "cell_type": "code",
      "source": [
        "null_list"
      ],
      "metadata": {
        "colab": {
          "base_uri": "https://localhost:8080/"
        },
        "id": "_p4cGnYgLxI4",
        "outputId": "74cd947a-0922-4be2-b37e-a5315682aaff"
      },
      "execution_count": null,
      "outputs": [
        {
          "output_type": "execute_result",
          "data": {
            "text/plain": [
              "[5400.0, 4080.0, 11784.0, 9120.0, 7884.0]"
            ]
          },
          "metadata": {},
          "execution_count": 70
        }
      ]
    },
    {
      "cell_type": "code",
      "source": [
        "null_list =[]\n",
        "for salary in salaries:\n",
        "  if salary > 3000:\n",
        "    null_list.append(new_salary(salary))\n",
        "  else:\n",
        "    null_list.append(new_salary(salary*2))"
      ],
      "metadata": {
        "id": "QFpxmNzqLyPD"
      },
      "execution_count": null,
      "outputs": []
    },
    {
      "cell_type": "code",
      "source": [
        "null_list"
      ],
      "metadata": {
        "colab": {
          "base_uri": "https://localhost:8080/"
        },
        "id": "KyMa4rnWMN-q",
        "outputId": "36541e39-4d89-4f45-a637-2953c1eda9d1"
      },
      "execution_count": null,
      "outputs": [
        {
          "output_type": "execute_result",
          "data": {
            "text/plain": [
              "[5400.0, 4080.0, 11784.0, 9120.0, 7884.0]"
            ]
          },
          "metadata": {},
          "execution_count": 72
        }
      ]
    },
    {
      "cell_type": "code",
      "source": [
        "[new_salary(salary*2) if salary < 3000 else new_salary(salary) for salary in salaries] #if else yapisi beraber kullanilacaksa if ve else solda kullanılıp en sona for dongusu eklenir. \n",
        "[salary * 2 for salary in salaries if salary < 3000] #eger list comp. yapisinda sadece if bulunuyorsa if sagda kullanilir.\n",
        "[salary * 2 if salary < 3000 else salary * 0 for salary in salaries]#HAYAT KURTARAN SERISINDEN"
      ],
      "metadata": {
        "colab": {
          "base_uri": "https://localhost:8080/"
        },
        "id": "kaBHWfPSMSbJ",
        "outputId": "2e43463c-f1b4-4253-fde8-7df152df382b"
      },
      "execution_count": null,
      "outputs": [
        {
          "output_type": "execute_result",
          "data": {
            "text/plain": [
              "[0, 0, 0, 0, 0]"
            ]
          },
          "metadata": {},
          "execution_count": 73
        }
      ]
    },
    {
      "cell_type": "code",
      "source": [
        "#istenmeyen ogrencilerin adini kucult, digerlerini buyult.\n",
        "students = [\"Omer\", \"Burak\", \"Oguzhan\", \"Ali\", \"Tugba\", \"Büşra\", \"Betül\", \"Sena\"]\n",
        "students_no = [\"Oguzhan\", \"Sena\"]\n",
        "\n",
        "[student.lower() if student in students_no else student.upper() for student in students]"
      ],
      "metadata": {
        "colab": {
          "base_uri": "https://localhost:8080/"
        },
        "id": "fHMJhroSMxtu",
        "outputId": "84919a1d-da93-4f0d-d575-b52d77c2e54c"
      },
      "execution_count": null,
      "outputs": [
        {
          "output_type": "execute_result",
          "data": {
            "text/plain": [
              "['OMER', 'BURAK', 'oguzhan', 'ALI', 'TUGBA', 'BÜŞRA', 'BETÜL', 'sena']"
            ]
          },
          "metadata": {},
          "execution_count": 74
        }
      ]
    },
    {
      "cell_type": "markdown",
      "source": [
        "# **Dict Comprehensions**"
      ],
      "metadata": {
        "id": "Yn_zAW83V8mg"
      }
    },
    {
      "cell_type": "code",
      "source": [
        "dict = {'a':1,\n",
        "        'b':2,\n",
        "        'c':3,\n",
        "        'd':4}\n",
        "dict.keys()\n",
        "dict.values()\n",
        "dict.items()"
      ],
      "metadata": {
        "colab": {
          "base_uri": "https://localhost:8080/"
        },
        "id": "hisKMh7ZWDhv",
        "outputId": "f4c5c421-099a-44c8-bdca-08672594e337"
      },
      "execution_count": null,
      "outputs": [
        {
          "output_type": "execute_result",
          "data": {
            "text/plain": [
              "dict_items([('a', 1), ('b', 2), ('c', 3), ('d', 4)])"
            ]
          },
          "metadata": {},
          "execution_count": 75
        }
      ]
    },
    {
      "cell_type": "code",
      "source": [
        "{k: v ** 2 for (k,v) in dict.items()} # key sabit fakat value **2 yani karesini alacak. For dongusuyle de nereden ne alacagini belirtiyoruz."
      ],
      "metadata": {
        "colab": {
          "base_uri": "https://localhost:8080/"
        },
        "id": "U-NCWUQDWVuP",
        "outputId": "63e7c36b-3522-4b27-fc5b-e53774702b54"
      },
      "execution_count": null,
      "outputs": [
        {
          "output_type": "execute_result",
          "data": {
            "text/plain": [
              "{'a': 1, 'b': 4, 'c': 9, 'd': 16}"
            ]
          },
          "metadata": {},
          "execution_count": 76
        }
      ]
    },
    {
      "cell_type": "code",
      "source": [
        "{k.upper(): v for (k,v) in dict.items()} #HAYAT KURTARAN SERISINDEN !!"
      ],
      "metadata": {
        "colab": {
          "base_uri": "https://localhost:8080/"
        },
        "id": "C-UtB22mWlmV",
        "outputId": "7a0d925d-438c-4163-ad06-bbef241b4654"
      },
      "execution_count": null,
      "outputs": [
        {
          "output_type": "execute_result",
          "data": {
            "text/plain": [
              "{'A': 1, 'B': 2, 'C': 3, 'D': 4}"
            ]
          },
          "metadata": {},
          "execution_count": 77
        }
      ]
    },
    {
      "cell_type": "code",
      "source": [
        "#Uygulama Mülakat Sorusu : Cift sayilarin karesi alinarak bir sozluge eklenmelidir.\n",
        "num = range(10)\n",
        "new_dict = {}\n",
        "\n",
        "for n in num:\n",
        "  if n % 2 == 0:\n",
        "    new_dict[n] = n ** 2 # new_dict[key] = value olarak islem saglanir\n",
        "\n",
        "#dict comp :\n",
        "{n : n ** 2 for n in num if n % 2 == 0}"
      ],
      "metadata": {
        "colab": {
          "base_uri": "https://localhost:8080/"
        },
        "id": "BKa71RbKW3er",
        "outputId": "9d4c9769-361f-4909-ac27-d1319bd6221e"
      },
      "execution_count": null,
      "outputs": [
        {
          "output_type": "execute_result",
          "data": {
            "text/plain": [
              "{0: 0, 2: 4, 4: 16, 6: 36, 8: 64}"
            ]
          },
          "metadata": {},
          "execution_count": 78
        }
      ]
    },
    {
      "cell_type": "code",
      "source": [
        "#uygulama1 : bir veri setindeki degisken isimlerini degistirme\n",
        "#before : ['total','speeding','alcohol','not_distraced','no_previous','ins_premium','ins_losses','abbrev'] bunlari upper haline cevirmek istiyoruz.\n",
        "\n",
        "import seaborn as sns\n",
        "df = sns.load_dataset(\"car_crashes\")\n",
        "df.columns"
      ],
      "metadata": {
        "colab": {
          "base_uri": "https://localhost:8080/"
        },
        "id": "x0tQmntZdLGM",
        "outputId": "2e3e0d80-6f16-4163-8e99-b06b620b97f2"
      },
      "execution_count": null,
      "outputs": [
        {
          "output_type": "execute_result",
          "data": {
            "text/plain": [
              "Index(['total', 'speeding', 'alcohol', 'not_distracted', 'no_previous',\n",
              "       'ins_premium', 'ins_losses', 'abbrev'],\n",
              "      dtype='object')"
            ]
          },
          "metadata": {},
          "execution_count": 79
        }
      ]
    },
    {
      "cell_type": "code",
      "source": [
        "for col in df.columns:\n",
        "  print(col.upper())"
      ],
      "metadata": {
        "colab": {
          "base_uri": "https://localhost:8080/"
        },
        "id": "kBCJ90o3f9Pd",
        "outputId": "14e420ec-c081-43b1-ba0c-87e89ae8afc0"
      },
      "execution_count": null,
      "outputs": [
        {
          "output_type": "stream",
          "name": "stdout",
          "text": [
            "TOTAL\n",
            "SPEEDING\n",
            "ALCOHOL\n",
            "NOT_DISTRACTED\n",
            "NO_PREVIOUS\n",
            "INS_PREMIUM\n",
            "INS_LOSSES\n",
            "ABBREV\n"
          ]
        }
      ]
    },
    {
      "cell_type": "code",
      "source": [
        "#list comp. kullanmadan:\n",
        "A = []\n",
        "for col in df.columns:\n",
        "  A.append(col.upper())\n",
        "df.columns = A"
      ],
      "metadata": {
        "id": "kIUyOqZNgYQh"
      },
      "execution_count": null,
      "outputs": []
    },
    {
      "cell_type": "code",
      "source": [
        "#list comp. kullanarak :\n",
        "df.columns = [col.upper() for col in df.columns]"
      ],
      "metadata": {
        "id": "iOeYYsgaglqy"
      },
      "execution_count": null,
      "outputs": []
    },
    {
      "cell_type": "code",
      "source": [
        "#Uygulama2 : Isminde \"INS\" olan degiskenlerin basina FLAG digerlerine NO_FLAG eklemek istiyoruz.\n",
        "[col for col in df.columns if \"INS\" in col] # icinde ıns barindiranlari getirdi.\n",
        "[\"FLAG_\" + col if \"INS\" in   col else \"NO_FLAG_\" + col for col in df.columns] #mycode, df.columns icinde INS varsa col'a ekle \"FLAG_\" yoksa ekle \"NO_FLAG_\","
      ],
      "metadata": {
        "colab": {
          "base_uri": "https://localhost:8080/"
        },
        "id": "_DK9X_isgoY5",
        "outputId": "943ad6e9-493a-40c5-cec1-73f499e2ac3c"
      },
      "execution_count": null,
      "outputs": [
        {
          "output_type": "execute_result",
          "data": {
            "text/plain": [
              "['NO_FLAG_TOTAL',\n",
              " 'NO_FLAG_SPEEDING',\n",
              " 'NO_FLAG_ALCOHOL',\n",
              " 'NO_FLAG_NOT_DISTRACTED',\n",
              " 'NO_FLAG_NO_PREVIOUS',\n",
              " 'FLAG_INS_PREMIUM',\n",
              " 'FLAG_INS_LOSSES',\n",
              " 'NO_FLAG_ABBREV']"
            ]
          },
          "metadata": {},
          "execution_count": 83
        }
      ]
    },
    {
      "cell_type": "code",
      "source": [
        "#Uygulama 3 : Amac key'i string, value'su liste olan sozluk olusturmak. Bu islemi sadece sayisal degiskenler icin yapmaliyiz.\n",
        "\n",
        "import seaborn as sns\n",
        "df = sns.load_dataset(\"car_crashes\")\n",
        "df.columns"
      ],
      "metadata": {
        "colab": {
          "base_uri": "https://localhost:8080/"
        },
        "id": "2U8T4FiGgt3D",
        "outputId": "3e0240ae-1b14-4a27-f3b5-5c6f0da33abc"
      },
      "execution_count": null,
      "outputs": [
        {
          "output_type": "execute_result",
          "data": {
            "text/plain": [
              "Index(['total', 'speeding', 'alcohol', 'not_distracted', 'no_previous',\n",
              "       'ins_premium', 'ins_losses', 'abbrev'],\n",
              "      dtype='object')"
            ]
          },
          "metadata": {},
          "execution_count": 84
        }
      ]
    },
    {
      "cell_type": "code",
      "source": [
        "col_num = [col for col in df.columns if df[col].dtype != \"O\"] # df columundaki object olmayan degerleri donecek. Yani sayisal.\n",
        "col_num"
      ],
      "metadata": {
        "colab": {
          "base_uri": "https://localhost:8080/"
        },
        "id": "EnSkUJLCkIzE",
        "outputId": "15748c1e-1537-4466-a28d-43791f0b8bf1"
      },
      "execution_count": null,
      "outputs": [
        {
          "output_type": "execute_result",
          "data": {
            "text/plain": [
              "['total',\n",
              " 'speeding',\n",
              " 'alcohol',\n",
              " 'not_distracted',\n",
              " 'no_previous',\n",
              " 'ins_premium',\n",
              " 'ins_losses']"
            ]
          },
          "metadata": {},
          "execution_count": 85
        }
      ]
    },
    {
      "cell_type": "code",
      "source": [
        "dict = {}\n",
        "agg_list = [\"mean\", \"min\", \"max\", \"sum\"] # eklenecek value"
      ],
      "metadata": {
        "id": "17_iHPVAlROJ"
      },
      "execution_count": null,
      "outputs": []
    },
    {
      "cell_type": "code",
      "source": [
        "dict = {col : agg_list for col in col_num} #dict comp. ile eklenisi"
      ],
      "metadata": {
        "id": "DqFx-75rlyxY"
      },
      "execution_count": null,
      "outputs": []
    },
    {
      "cell_type": "code",
      "source": [
        "dict"
      ],
      "metadata": {
        "colab": {
          "base_uri": "https://localhost:8080/"
        },
        "id": "Z17Lr5NhmYNe",
        "outputId": "29a6e584-44ea-4a82-91eb-ad759b51304b"
      },
      "execution_count": null,
      "outputs": [
        {
          "output_type": "execute_result",
          "data": {
            "text/plain": [
              "{'alcohol': ['mean', 'min', 'max', 'sum'],\n",
              " 'ins_losses': ['mean', 'min', 'max', 'sum'],\n",
              " 'ins_premium': ['mean', 'min', 'max', 'sum'],\n",
              " 'no_previous': ['mean', 'min', 'max', 'sum'],\n",
              " 'not_distracted': ['mean', 'min', 'max', 'sum'],\n",
              " 'speeding': ['mean', 'min', 'max', 'sum'],\n",
              " 'total': ['mean', 'min', 'max', 'sum']}"
            ]
          },
          "metadata": {},
          "execution_count": 88
        }
      ]
    },
    {
      "cell_type": "code",
      "source": [
        "df[col_num].agg(dict) #gonderdigimiz sozlugun icindeki degiskenler eger dataframe da varsa; degiskenleri key bolumunde tutar value bolumunde tuttugumuz degiskenleri key'lere otomatik olarak uygular.\n",
        "#HAYAT KURTARAN FONKSİYON .agg() !!"
      ],
      "metadata": {
        "colab": {
          "base_uri": "https://localhost:8080/",
          "height": 175
        },
        "id": "qTN_i3AxnA6R",
        "outputId": "94ef667f-4b43-4d04-c167-0a6d4c522fe7"
      },
      "execution_count": null,
      "outputs": [
        {
          "output_type": "execute_result",
          "data": {
            "text/plain": [
              "           total    speeding     alcohol  not_distracted  no_previous  \\\n",
              "mean   15.790196    4.998196    4.886784       13.573176    14.004882   \n",
              "min     5.900000    1.792000    1.593000        1.760000     5.900000   \n",
              "max    23.900000    9.450000   10.038000       23.661000    21.280000   \n",
              "sum   805.300000  254.908000  249.226000      692.232000   714.249000   \n",
              "\n",
              "       ins_premium   ins_losses  \n",
              "mean    886.957647   134.493137  \n",
              "min     641.960000    82.750000  \n",
              "max    1301.520000   194.780000  \n",
              "sum   45234.840000  6859.150000  "
            ],
            "text/html": [
              "\n",
              "  <div id=\"df-539f3515-39ed-4047-98fb-5ed671de14d4\">\n",
              "    <div class=\"colab-df-container\">\n",
              "      <div>\n",
              "<style scoped>\n",
              "    .dataframe tbody tr th:only-of-type {\n",
              "        vertical-align: middle;\n",
              "    }\n",
              "\n",
              "    .dataframe tbody tr th {\n",
              "        vertical-align: top;\n",
              "    }\n",
              "\n",
              "    .dataframe thead th {\n",
              "        text-align: right;\n",
              "    }\n",
              "</style>\n",
              "<table border=\"1\" class=\"dataframe\">\n",
              "  <thead>\n",
              "    <tr style=\"text-align: right;\">\n",
              "      <th></th>\n",
              "      <th>total</th>\n",
              "      <th>speeding</th>\n",
              "      <th>alcohol</th>\n",
              "      <th>not_distracted</th>\n",
              "      <th>no_previous</th>\n",
              "      <th>ins_premium</th>\n",
              "      <th>ins_losses</th>\n",
              "    </tr>\n",
              "  </thead>\n",
              "  <tbody>\n",
              "    <tr>\n",
              "      <th>mean</th>\n",
              "      <td>15.790196</td>\n",
              "      <td>4.998196</td>\n",
              "      <td>4.886784</td>\n",
              "      <td>13.573176</td>\n",
              "      <td>14.004882</td>\n",
              "      <td>886.957647</td>\n",
              "      <td>134.493137</td>\n",
              "    </tr>\n",
              "    <tr>\n",
              "      <th>min</th>\n",
              "      <td>5.900000</td>\n",
              "      <td>1.792000</td>\n",
              "      <td>1.593000</td>\n",
              "      <td>1.760000</td>\n",
              "      <td>5.900000</td>\n",
              "      <td>641.960000</td>\n",
              "      <td>82.750000</td>\n",
              "    </tr>\n",
              "    <tr>\n",
              "      <th>max</th>\n",
              "      <td>23.900000</td>\n",
              "      <td>9.450000</td>\n",
              "      <td>10.038000</td>\n",
              "      <td>23.661000</td>\n",
              "      <td>21.280000</td>\n",
              "      <td>1301.520000</td>\n",
              "      <td>194.780000</td>\n",
              "    </tr>\n",
              "    <tr>\n",
              "      <th>sum</th>\n",
              "      <td>805.300000</td>\n",
              "      <td>254.908000</td>\n",
              "      <td>249.226000</td>\n",
              "      <td>692.232000</td>\n",
              "      <td>714.249000</td>\n",
              "      <td>45234.840000</td>\n",
              "      <td>6859.150000</td>\n",
              "    </tr>\n",
              "  </tbody>\n",
              "</table>\n",
              "</div>\n",
              "      <button class=\"colab-df-convert\" onclick=\"convertToInteractive('df-539f3515-39ed-4047-98fb-5ed671de14d4')\"\n",
              "              title=\"Convert this dataframe to an interactive table.\"\n",
              "              style=\"display:none;\">\n",
              "        \n",
              "  <svg xmlns=\"http://www.w3.org/2000/svg\" height=\"24px\"viewBox=\"0 0 24 24\"\n",
              "       width=\"24px\">\n",
              "    <path d=\"M0 0h24v24H0V0z\" fill=\"none\"/>\n",
              "    <path d=\"M18.56 5.44l.94 2.06.94-2.06 2.06-.94-2.06-.94-.94-2.06-.94 2.06-2.06.94zm-11 1L8.5 8.5l.94-2.06 2.06-.94-2.06-.94L8.5 2.5l-.94 2.06-2.06.94zm10 10l.94 2.06.94-2.06 2.06-.94-2.06-.94-.94-2.06-.94 2.06-2.06.94z\"/><path d=\"M17.41 7.96l-1.37-1.37c-.4-.4-.92-.59-1.43-.59-.52 0-1.04.2-1.43.59L10.3 9.45l-7.72 7.72c-.78.78-.78 2.05 0 2.83L4 21.41c.39.39.9.59 1.41.59.51 0 1.02-.2 1.41-.59l7.78-7.78 2.81-2.81c.8-.78.8-2.07 0-2.86zM5.41 20L4 18.59l7.72-7.72 1.47 1.35L5.41 20z\"/>\n",
              "  </svg>\n",
              "      </button>\n",
              "      \n",
              "  <style>\n",
              "    .colab-df-container {\n",
              "      display:flex;\n",
              "      flex-wrap:wrap;\n",
              "      gap: 12px;\n",
              "    }\n",
              "\n",
              "    .colab-df-convert {\n",
              "      background-color: #E8F0FE;\n",
              "      border: none;\n",
              "      border-radius: 50%;\n",
              "      cursor: pointer;\n",
              "      display: none;\n",
              "      fill: #1967D2;\n",
              "      height: 32px;\n",
              "      padding: 0 0 0 0;\n",
              "      width: 32px;\n",
              "    }\n",
              "\n",
              "    .colab-df-convert:hover {\n",
              "      background-color: #E2EBFA;\n",
              "      box-shadow: 0px 1px 2px rgba(60, 64, 67, 0.3), 0px 1px 3px 1px rgba(60, 64, 67, 0.15);\n",
              "      fill: #174EA6;\n",
              "    }\n",
              "\n",
              "    [theme=dark] .colab-df-convert {\n",
              "      background-color: #3B4455;\n",
              "      fill: #D2E3FC;\n",
              "    }\n",
              "\n",
              "    [theme=dark] .colab-df-convert:hover {\n",
              "      background-color: #434B5C;\n",
              "      box-shadow: 0px 1px 3px 1px rgba(0, 0, 0, 0.15);\n",
              "      filter: drop-shadow(0px 1px 2px rgba(0, 0, 0, 0.3));\n",
              "      fill: #FFFFFF;\n",
              "    }\n",
              "  </style>\n",
              "\n",
              "      <script>\n",
              "        const buttonEl =\n",
              "          document.querySelector('#df-539f3515-39ed-4047-98fb-5ed671de14d4 button.colab-df-convert');\n",
              "        buttonEl.style.display =\n",
              "          google.colab.kernel.accessAllowed ? 'block' : 'none';\n",
              "\n",
              "        async function convertToInteractive(key) {\n",
              "          const element = document.querySelector('#df-539f3515-39ed-4047-98fb-5ed671de14d4');\n",
              "          const dataTable =\n",
              "            await google.colab.kernel.invokeFunction('convertToInteractive',\n",
              "                                                     [key], {});\n",
              "          if (!dataTable) return;\n",
              "\n",
              "          const docLinkHtml = 'Like what you see? Visit the ' +\n",
              "            '<a target=\"_blank\" href=https://colab.research.google.com/notebooks/data_table.ipynb>data table notebook</a>'\n",
              "            + ' to learn more about interactive tables.';\n",
              "          element.innerHTML = '';\n",
              "          dataTable['output_type'] = 'display_data';\n",
              "          await google.colab.output.renderOutput(dataTable, element);\n",
              "          const docLink = document.createElement('div');\n",
              "          docLink.innerHTML = docLinkHtml;\n",
              "          element.appendChild(docLink);\n",
              "        }\n",
              "      </script>\n",
              "    </div>\n",
              "  </div>\n",
              "  "
            ]
          },
          "metadata": {},
          "execution_count": 89
        }
      ]
    },
    {
      "cell_type": "code",
      "source": [
        ""
      ],
      "metadata": {
        "id": "6MhGEhgfoi4F"
      },
      "execution_count": null,
      "outputs": []
    }
  ]
}